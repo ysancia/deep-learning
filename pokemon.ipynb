{
  "nbformat": 4,
  "nbformat_minor": 0,
  "metadata": {
    "colab": {
      "name": "pokemon.ipynb",
      "provenance": []
    },
    "kernelspec": {
      "name": "python3",
      "display_name": "Python 3"
    },
    "language_info": {
      "name": "python"
    },
    "accelerator": "GPU"
  },
  "cells": [
    {
      "cell_type": "code",
      "execution_count": 1,
      "metadata": {
        "id": "BP4dz87X6pLP"
      },
      "outputs": [],
      "source": [
        "import numpy as np\n",
        "\n",
        "import os\n",
        "\n",
        "import tensorflow as tf\n",
        "from tensorflow import keras\n",
        "from tensorflow.keras.preprocessing.image import ImageDataGenerator\n",
        "from tensorflow.keras import layers\n",
        "\n",
        "from tensorflow.keras.preprocessing import image_dataset_from_directory\n",
        "\n",
        "from tensorflow.keras.utils import to_categorical"
      ]
    },
    {
      "cell_type": "code",
      "source": [
        "import cv2"
      ],
      "metadata": {
        "id": "tFGeZK6Q6ttj"
      },
      "execution_count": 2,
      "outputs": []
    },
    {
      "cell_type": "code",
      "source": [
        "from google.colab import drive\n",
        "drive.mount('/content/drive/')"
      ],
      "metadata": {
        "colab": {
          "base_uri": "https://localhost:8080/"
        },
        "id": "f4mxWoEm7LqU",
        "outputId": "efade3d9-a673-4e65-d6b1-81e755e8620e"
      },
      "execution_count": 3,
      "outputs": [
        {
          "output_type": "stream",
          "name": "stdout",
          "text": [
            "Mounted at /content/drive/\n"
          ]
        }
      ]
    },
    {
      "cell_type": "code",
      "source": [
        "\n",
        "path = \"/content/drive/My Drive/dataset/_basic\"\n",
        "pokemon_types = os.listdir(path) \n",
        "print(\"Total number of pokemon types: \" + str(len(pokemon_types)))"
      ],
      "metadata": {
        "colab": {
          "base_uri": "https://localhost:8080/"
        },
        "id": "3KOAC1Ng6y0U",
        "outputId": "16da107a-6488-46a6-b299-db78ee18a217"
      },
      "execution_count": 6,
      "outputs": [
        {
          "output_type": "stream",
          "name": "stdout",
          "text": [
            "Total number of pokemon types: 57\n"
          ]
        }
      ]
    },
    {
      "cell_type": "code",
      "source": [
        "image_set = {}\n",
        "for c in pokemon_types:\n",
        "    if not c.startswith(\".\"):\n",
        "        image_set[c] = len(os.listdir(os.path.join(path, c)))\n",
        "    \n",
        "print(\"Total number of images in dataset: \" + str(sum(list(image_set.values()))))\n"
      ],
      "metadata": {
        "colab": {
          "base_uri": "https://localhost:8080/"
        },
        "id": "ItsTSrSU7BbQ",
        "outputId": "5ee951b6-3774-4173-ef7e-b8bdc23f2919"
      },
      "execution_count": 10,
      "outputs": [
        {
          "output_type": "stream",
          "name": "stdout",
          "text": [
            "Total number of images in dataset: 4371\n"
          ]
        }
      ]
    },
    {
      "cell_type": "code",
      "source": [
        "\n",
        "labels = [i[0] for i in image_set.items()]\n"
      ],
      "metadata": {
        "id": "G4izxtNf8SHS"
      },
      "execution_count": 11,
      "outputs": []
    },
    {
      "cell_type": "code",
      "source": [
        "X = [] \n",
        "Y = [] \n",
        "\n",
        "\n",
        "for i in pokemon_types:\n",
        "    \n",
        "    dir_path = os.path.join(path, i)\n",
        "    label = labels.index(i) \n",
        "        \n",
        "\n",
        "    for j in os.listdir(dir_path):\n",
        "        image = cv2.imread(os.path.join(dir_path, j))\n",
        "            \n",
        "        try:\n",
        "            smaller = cv2.resize(image, (96, 96)) \n",
        "            X.append(smaller)\n",
        "            Y.append(label)\n",
        "            \n",
        "            \n",
        "        except:\n",
        "            print(os.path.join(dir_path, j), \"Error\")\n",
        "            continue       \n",
        "            \n",
        "print(\"completed\")"
      ],
      "metadata": {
        "colab": {
          "base_uri": "https://localhost:8080/"
        },
        "id": "Hi4rz3lO7aEk",
        "outputId": "c517688f-0afe-4dcc-c322-b253977e33b9"
      },
      "execution_count": 12,
      "outputs": [
        {
          "output_type": "stream",
          "name": "stdout",
          "text": [
            "/content/drive/My Drive/dataset/_basic/Caterpie/dcd36168d2bd470aaca333fb3bdf6bfa.svg Error\n",
            "/content/drive/My Drive/dataset/_basic/Growlithe/f7a87c057dc94a32a0d5aedd1abed088.svg Error\n",
            "/content/drive/My Drive/dataset/_basic/Venonat/56425d5f66e64584afbfc797b93c7ee5.ico Error\n",
            "/content/drive/My Drive/dataset/_basic/Scyther/a8734f10941a4deb95fcf7388e4fe8e2.svg Error\n",
            "/content/drive/My Drive/dataset/_basic/Voltorb/94f443d834f94c1e8e6b088d879646d4.gif~c200 Error\n",
            "/content/drive/My Drive/dataset/_basic/Machamp/546d68ace3ac414eb671b0e87880d683.svg Error\n",
            "/content/drive/My Drive/dataset/_basic/Poliwag/456c5063598a46a68a60ebcde5647ace.svg Error\n",
            "completed\n"
          ]
        }
      ]
    },
    {
      "cell_type": "code",
      "source": [
        "\n",
        "from sklearn.model_selection import train_test_split"
      ],
      "metadata": {
        "id": "ZQruisk99g8Q"
      },
      "execution_count": 13,
      "outputs": []
    },
    {
      "cell_type": "code",
      "source": [
        "\n",
        "X = np.array(X).reshape(-1, 96, 96, 3)\n",
        "\n",
        "\n",
        "X = X / 255.0\n",
        "\n",
        "y = to_categorical(Y, num_classes = len(labels))\n",
        "\n",
        "X_train, X_test, y_train, y_test = train_test_split(X, y, test_size = 0.2, stratify = y, shuffle = True, random_state = 7)"
      ],
      "metadata": {
        "id": "0gOhtoyj8-BG"
      },
      "execution_count": 14,
      "outputs": []
    },
    {
      "cell_type": "code",
      "source": [
        "from tensorflow.keras.models import Sequential\n",
        "from tensorflow.keras.layers import BatchNormalization, Conv2D, MaxPooling2D, Activation, Flatten, Dropout, Dense"
      ],
      "metadata": {
        "id": "g6aieamTAozQ"
      },
      "execution_count": 15,
      "outputs": []
    },
    {
      "cell_type": "code",
      "source": [
        "model = Sequential()\n",
        "model.add(Conv2D(32, 3, padding = 'same', activation = 'relu', input_shape =(96, 96, 3), kernel_initializer = 'he_normal'))\n",
        "model.add(BatchNormalization(axis = -1))\n",
        "model.add(MaxPooling2D((2, 2)))\n",
        "model.add(Dropout(0.25))\n",
        "\n",
        "model.add(Conv2D(64, 3, padding = 'same', kernel_initializer = 'he_normal', activation = 'relu'))\n",
        "model.add(BatchNormalization(axis = -1))\n",
        "model.add(MaxPooling2D((2, 2)))\n",
        "model.add(Dropout(0.25))\n",
        "\n",
        "model.add(Conv2D(128, 3, padding = 'same', kernel_initializer = 'he_normal', activation = 'relu'))\n",
        "model.add(BatchNormalization(axis = -1))\n",
        "model.add(MaxPooling2D((2, 2)))\n",
        "model.add(Dropout(0.25))\n",
        "\n",
        "model.add(Flatten())\n",
        "model.add(Dense(512, activation = 'relu'))\n",
        "model.add(BatchNormalization())\n",
        "model.add(Dropout(0.5))\n",
        "model.add(Dense(256, activation = 'relu'))\n",
        "model.add(BatchNormalization())\n",
        "model.add(Dropout(0.5))\n",
        "model.add(Dense(len(pokemon_types), activation = 'softmax'))\n",
        "\n",
        "model.summary()\n",
        "\n"
      ],
      "metadata": {
        "colab": {
          "base_uri": "https://localhost:8080/"
        },
        "id": "kkeGvUY_Eb-2",
        "outputId": "3fb44ad1-5e21-4cd5-f259-630b64b595b7"
      },
      "execution_count": 18,
      "outputs": [
        {
          "output_type": "stream",
          "name": "stdout",
          "text": [
            "Model: \"sequential_1\"\n",
            "_________________________________________________________________\n",
            " Layer (type)                Output Shape              Param #   \n",
            "=================================================================\n",
            " conv2d_1 (Conv2D)           (None, 96, 96, 32)        896       \n",
            "                                                                 \n",
            " batch_normalization (BatchN  (None, 96, 96, 32)       128       \n",
            " ormalization)                                                   \n",
            "                                                                 \n",
            " max_pooling2d (MaxPooling2D  (None, 48, 48, 32)       0         \n",
            " )                                                               \n",
            "                                                                 \n",
            " dropout (Dropout)           (None, 48, 48, 32)        0         \n",
            "                                                                 \n",
            " conv2d_2 (Conv2D)           (None, 48, 48, 64)        18496     \n",
            "                                                                 \n",
            " batch_normalization_1 (Batc  (None, 48, 48, 64)       256       \n",
            " hNormalization)                                                 \n",
            "                                                                 \n",
            " max_pooling2d_1 (MaxPooling  (None, 24, 24, 64)       0         \n",
            " 2D)                                                             \n",
            "                                                                 \n",
            " dropout_1 (Dropout)         (None, 24, 24, 64)        0         \n",
            "                                                                 \n",
            " conv2d_3 (Conv2D)           (None, 24, 24, 128)       73856     \n",
            "                                                                 \n",
            " batch_normalization_2 (Batc  (None, 24, 24, 128)      512       \n",
            " hNormalization)                                                 \n",
            "                                                                 \n",
            " max_pooling2d_2 (MaxPooling  (None, 12, 12, 128)      0         \n",
            " 2D)                                                             \n",
            "                                                                 \n",
            " dropout_2 (Dropout)         (None, 12, 12, 128)       0         \n",
            "                                                                 \n",
            " flatten (Flatten)           (None, 18432)             0         \n",
            "                                                                 \n",
            " dense (Dense)               (None, 512)               9437696   \n",
            "                                                                 \n",
            " batch_normalization_3 (Batc  (None, 512)              2048      \n",
            " hNormalization)                                                 \n",
            "                                                                 \n",
            " dropout_3 (Dropout)         (None, 512)               0         \n",
            "                                                                 \n",
            " dense_1 (Dense)             (None, 256)               131328    \n",
            "                                                                 \n",
            " batch_normalization_4 (Batc  (None, 256)              1024      \n",
            " hNormalization)                                                 \n",
            "                                                                 \n",
            " dropout_4 (Dropout)         (None, 256)               0         \n",
            "                                                                 \n",
            " dense_2 (Dense)             (None, 57)                14649     \n",
            "                                                                 \n",
            "=================================================================\n",
            "Total params: 9,680,889\n",
            "Trainable params: 9,678,905\n",
            "Non-trainable params: 1,984\n",
            "_________________________________________________________________\n"
          ]
        }
      ]
    },
    {
      "cell_type": "code",
      "source": [
        "model.compile(optimizer = 'adam', loss = 'categorical_crossentropy', metrics = ['accuracy'])\n",
        "\n",
        "                             "
      ],
      "metadata": {
        "id": "AqhjFbrIAhs7"
      },
      "execution_count": 19,
      "outputs": []
    },
    {
      "cell_type": "code",
      "source": [
        "history = model.fit(X_train, y_train, epochs = 20, validation_data=(X_test,y_test))"
      ],
      "metadata": {
        "colab": {
          "base_uri": "https://localhost:8080/"
        },
        "id": "BNlwl0JVBGWD",
        "outputId": "bbaf9f3f-b7c6-4a0d-965e-abf0f67b5d60"
      },
      "execution_count": 20,
      "outputs": [
        {
          "output_type": "stream",
          "name": "stdout",
          "text": [
            "Epoch 1/20\n",
            "110/110 [==============================] - 105s 937ms/step - loss: 4.5444 - accuracy: 0.1011 - val_loss: 5.5005 - val_accuracy: 0.0355\n",
            "Epoch 2/20\n",
            "110/110 [==============================] - 101s 916ms/step - loss: 3.8186 - accuracy: 0.1570 - val_loss: 4.1905 - val_accuracy: 0.0951\n",
            "Epoch 3/20\n",
            "110/110 [==============================] - 104s 943ms/step - loss: 3.3706 - accuracy: 0.2163 - val_loss: 3.7363 - val_accuracy: 0.1684\n",
            "Epoch 4/20\n",
            "110/110 [==============================] - 103s 941ms/step - loss: 3.0643 - accuracy: 0.2621 - val_loss: 3.1247 - val_accuracy: 0.2417\n",
            "Epoch 5/20\n",
            "110/110 [==============================] - 104s 945ms/step - loss: 2.8320 - accuracy: 0.2885 - val_loss: 2.9412 - val_accuracy: 0.2692\n",
            "Epoch 6/20\n",
            "110/110 [==============================] - 102s 926ms/step - loss: 2.7094 - accuracy: 0.3145 - val_loss: 2.7176 - val_accuracy: 0.3207\n",
            "Epoch 7/20\n",
            "110/110 [==============================] - 103s 937ms/step - loss: 2.5025 - accuracy: 0.3592 - val_loss: 2.5519 - val_accuracy: 0.3459\n",
            "Epoch 8/20\n",
            "110/110 [==============================] - 103s 935ms/step - loss: 2.3349 - accuracy: 0.3827 - val_loss: 2.4881 - val_accuracy: 0.3780\n",
            "Epoch 9/20\n",
            "110/110 [==============================] - 101s 920ms/step - loss: 2.1539 - accuracy: 0.4300 - val_loss: 2.3733 - val_accuracy: 0.3929\n",
            "Epoch 10/20\n",
            "110/110 [==============================] - 103s 935ms/step - loss: 1.9870 - accuracy: 0.4681 - val_loss: 2.3653 - val_accuracy: 0.4273\n",
            "Epoch 11/20\n",
            "110/110 [==============================] - 103s 933ms/step - loss: 1.8875 - accuracy: 0.4981 - val_loss: 2.2244 - val_accuracy: 0.4318\n",
            "Epoch 12/20\n",
            "110/110 [==============================] - 101s 916ms/step - loss: 1.7368 - accuracy: 0.5276 - val_loss: 2.1852 - val_accuracy: 0.4341\n",
            "Epoch 13/20\n",
            "110/110 [==============================] - 102s 930ms/step - loss: 1.6093 - accuracy: 0.5537 - val_loss: 2.2888 - val_accuracy: 0.4158\n",
            "Epoch 14/20\n",
            "110/110 [==============================] - 102s 930ms/step - loss: 1.4389 - accuracy: 0.6061 - val_loss: 2.4952 - val_accuracy: 0.3837\n",
            "Epoch 15/20\n",
            "110/110 [==============================] - 102s 930ms/step - loss: 1.3935 - accuracy: 0.6179 - val_loss: 2.1649 - val_accuracy: 0.4502\n",
            "Epoch 16/20\n",
            "110/110 [==============================] - 100s 911ms/step - loss: 1.2321 - accuracy: 0.6671 - val_loss: 2.2552 - val_accuracy: 0.4536\n",
            "Epoch 17/20\n",
            "110/110 [==============================] - 102s 925ms/step - loss: 1.1385 - accuracy: 0.6829 - val_loss: 1.9962 - val_accuracy: 0.4788\n",
            "Epoch 18/20\n",
            "110/110 [==============================] - 102s 925ms/step - loss: 1.1560 - accuracy: 0.6795 - val_loss: 2.1112 - val_accuracy: 0.4719\n",
            "Epoch 19/20\n",
            "110/110 [==============================] - 101s 914ms/step - loss: 0.9358 - accuracy: 0.7330 - val_loss: 2.1282 - val_accuracy: 0.4559\n",
            "Epoch 20/20\n",
            "110/110 [==============================] - 102s 929ms/step - loss: 0.8098 - accuracy: 0.7674 - val_loss: 1.9956 - val_accuracy: 0.5178\n"
          ]
        }
      ]
    },
    {
      "cell_type": "code",
      "source": [
        "model.save(\"/content/drive/My Drive/pokemon_model/epoch20.h5\")"
      ],
      "metadata": {
        "id": "r9OZnWR5KcCd"
      },
      "execution_count": 21,
      "outputs": []
    },
    {
      "cell_type": "code",
      "source": [
        ""
      ],
      "metadata": {
        "id": "ZJ4QlowVKkMF"
      },
      "execution_count": null,
      "outputs": []
    }
  ]
}